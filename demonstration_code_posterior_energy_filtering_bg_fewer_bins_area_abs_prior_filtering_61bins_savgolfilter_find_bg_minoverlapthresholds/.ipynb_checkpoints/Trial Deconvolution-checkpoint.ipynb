{
 "cells": [
  {
   "cell_type": "code",
   "execution_count": 9,
   "metadata": {},
   "outputs": [],
   "source": [
    "from __future__ import division\n",
    "import tqdm\n",
    "import os\n",
    "import sys\n",
    "sys.path.append('/mnt/disk0/home/jianwei_leejw/scripts/TESPulseFitCode')\n",
    "# sys.path.append('/workspace/projects/TES/scripts')\n",
    "import numpy as np\n",
    "import matplotlib\n",
    "# matplotlib.use('nbAgg')\n",
    "%matplotlib inline\n",
    "import matplotlib.pyplot as plt\n",
    "import glob\n",
    "from lmfit import Model, Parameters\n",
    "import pymc\n",
    "# import seaborn\n",
    "from scipy.stats import norm\n",
    "from scipy.signal import savgol_filter\n",
    "from scipy.fftpack import fft, rfft, fftshift\n",
    "import pickle\n",
    "import time as datetime\n",
    "import pandas\n",
    "import pprint\n",
    "\n",
    "import heralded_pulses_analysis as hpa\n",
    "import pulse_averaging_cw as pacw\n",
    "import pulse_fit_v05 as pf\n",
    "import pulse_fit_v06 as pf6\n",
    "import single_photon_model_no_shift as noshift\n",
    "import pulse_averaging as pa\n",
    "import thres_poiss\n",
    "import pulse_discrimination as pd\n",
    "import thres\n",
    "import stats_proc as sp\n",
    "\n",
    "import pulse_utils as pu\n",
    "import discriminator as disc\n",
    "import discriminator_edges as disc_edges\n",
    "import trace_param as trcp\n",
    "import pulse_fit_powell as pfp\n",
    "\n",
    "from scipy import signal as scipysig"
   ]
  },
  {
   "cell_type": "code",
   "execution_count": 2,
   "metadata": {
    "collapsed": true
   },
   "outputs": [],
   "source": [
    "results_directory = './'"
   ]
  },
  {
   "cell_type": "markdown",
   "metadata": {},
   "source": [
    "## Import Trace Parameters\n",
    "* Height threshold\n",
    "* RMS noise"
   ]
  },
  {
   "cell_type": "code",
   "execution_count": 3,
   "metadata": {},
   "outputs": [
    {
     "name": "stdout",
     "output_type": "stream",
     "text": [
      "0.00953609 850\n"
     ]
    }
   ],
   "source": [
    "[height_th, offset] = np.loadtxt(results_directory + 'disc_settings.dat')\n",
    "offset = int(offset)\n",
    "print height_th, offset"
   ]
  },
  {
   "cell_type": "code",
   "execution_count": 4,
   "metadata": {},
   "outputs": [
    {
     "name": "stdout",
     "output_type": "stream",
     "text": [
      "0.00175190254578\n"
     ]
    }
   ],
   "source": [
    "sigma0 = np.loadtxt(results_directory + 'rms.dat')\n",
    "print sigma0"
   ]
  },
  {
   "cell_type": "markdown",
   "metadata": {},
   "source": [
    "# Part 1: Discriminator Demo"
   ]
  },
  {
   "cell_type": "code",
   "execution_count": 5,
   "metadata": {
    "collapsed": true
   },
   "outputs": [],
   "source": [
    "# Import interesting traces to demonstrate\n",
    "fl = np.genfromtxt('/mnt/disk1/analysis/20170523_TES5_75mK_95uA_trise_115ns_results/interesting_traces_220_to_240ns.txt', delimiter='\\n',dtype='string')"
   ]
  },
  {
   "cell_type": "code",
   "execution_count": 17,
   "metadata": {
    "collapsed": true
   },
   "outputs": [],
   "source": [
    "fname = fl[8]\n",
    "# fname = '/mnt/disk1/data/20170523_TES5_75mK_95uA_trise_115ns/doubles/C2doubles00285.trc'\n",
    "time = pu.time_vector(fname)\n",
    "signal = trcp.trace_extr(fname,height_th)"
   ]
  },
  {
   "cell_type": "code",
   "execution_count": null,
   "metadata": {
    "collapsed": true
   },
   "outputs": [],
   "source": []
  },
  {
   "cell_type": "code",
   "execution_count": 32,
   "metadata": {},
   "outputs": [
    {
     "data": {
      "application/javascript": [
       "/* Put everything inside the global mpl namespace */\n",
       "window.mpl = {};\n",
       "\n",
       "\n",
       "mpl.get_websocket_type = function() {\n",
       "    if (typeof(WebSocket) !== 'undefined') {\n",
       "        return WebSocket;\n",
       "    } else if (typeof(MozWebSocket) !== 'undefined') {\n",
       "        return MozWebSocket;\n",
       "    } else {\n",
       "        alert('Your browser does not have WebSocket support.' +\n",
       "              'Please try Chrome, Safari or Firefox ≥ 6. ' +\n",
       "              'Firefox 4 and 5 are also supported but you ' +\n",
       "              'have to enable WebSockets in about:config.');\n",
       "    };\n",
       "}\n",
       "\n",
       "mpl.figure = function(figure_id, websocket, ondownload, parent_element) {\n",
       "    this.id = figure_id;\n",
       "\n",
       "    this.ws = websocket;\n",
       "\n",
       "    this.supports_binary = (this.ws.binaryType != undefined);\n",
       "\n",
       "    if (!this.supports_binary) {\n",
       "        var warnings = document.getElementById(\"mpl-warnings\");\n",
       "        if (warnings) {\n",
       "            warnings.style.display = 'block';\n",
       "            warnings.textContent = (\n",
       "                \"This browser does not support binary websocket messages. \" +\n",
       "                    \"Performance may be slow.\");\n",
       "        }\n",
       "    }\n",
       "\n",
       "    this.imageObj = new Image();\n",
       "\n",
       "    this.context = undefined;\n",
       "    this.message = undefined;\n",
       "    this.canvas = undefined;\n",
       "    this.rubberband_canvas = undefined;\n",
       "    this.rubberband_context = undefined;\n",
       "    this.format_dropdown = undefined;\n",
       "\n",
       "    this.image_mode = 'full';\n",
       "\n",
       "    this.root = $('<div/>');\n",
       "    this._root_extra_style(this.root)\n",
       "    this.root.attr('style', 'display: inline-block');\n",
       "\n",
       "    $(parent_element).append(this.root);\n",
       "\n",
       "    this._init_header(this);\n",
       "    this._init_canvas(this);\n",
       "    this._init_toolbar(this);\n",
       "\n",
       "    var fig = this;\n",
       "\n",
       "    this.waiting = false;\n",
       "\n",
       "    this.ws.onopen =  function () {\n",
       "            fig.send_message(\"supports_binary\", {value: fig.supports_binary});\n",
       "            fig.send_message(\"send_image_mode\", {});\n",
       "            if (mpl.ratio != 1) {\n",
       "                fig.send_message(\"set_dpi_ratio\", {'dpi_ratio': mpl.ratio});\n",
       "            }\n",
       "            fig.send_message(\"refresh\", {});\n",
       "        }\n",
       "\n",
       "    this.imageObj.onload = function() {\n",
       "            if (fig.image_mode == 'full') {\n",
       "                // Full images could contain transparency (where diff images\n",
       "                // almost always do), so we need to clear the canvas so that\n",
       "                // there is no ghosting.\n",
       "                fig.context.clearRect(0, 0, fig.canvas.width, fig.canvas.height);\n",
       "            }\n",
       "            fig.context.drawImage(fig.imageObj, 0, 0);\n",
       "        };\n",
       "\n",
       "    this.imageObj.onunload = function() {\n",
       "        this.ws.close();\n",
       "    }\n",
       "\n",
       "    this.ws.onmessage = this._make_on_message_function(this);\n",
       "\n",
       "    this.ondownload = ondownload;\n",
       "}\n",
       "\n",
       "mpl.figure.prototype._init_header = function() {\n",
       "    var titlebar = $(\n",
       "        '<div class=\"ui-dialog-titlebar ui-widget-header ui-corner-all ' +\n",
       "        'ui-helper-clearfix\"/>');\n",
       "    var titletext = $(\n",
       "        '<div class=\"ui-dialog-title\" style=\"width: 100%; ' +\n",
       "        'text-align: center; padding: 3px;\"/>');\n",
       "    titlebar.append(titletext)\n",
       "    this.root.append(titlebar);\n",
       "    this.header = titletext[0];\n",
       "}\n",
       "\n",
       "\n",
       "\n",
       "mpl.figure.prototype._canvas_extra_style = function(canvas_div) {\n",
       "\n",
       "}\n",
       "\n",
       "\n",
       "mpl.figure.prototype._root_extra_style = function(canvas_div) {\n",
       "\n",
       "}\n",
       "\n",
       "mpl.figure.prototype._init_canvas = function() {\n",
       "    var fig = this;\n",
       "\n",
       "    var canvas_div = $('<div/>');\n",
       "\n",
       "    canvas_div.attr('style', 'position: relative; clear: both; outline: 0');\n",
       "\n",
       "    function canvas_keyboard_event(event) {\n",
       "        return fig.key_event(event, event['data']);\n",
       "    }\n",
       "\n",
       "    canvas_div.keydown('key_press', canvas_keyboard_event);\n",
       "    canvas_div.keyup('key_release', canvas_keyboard_event);\n",
       "    this.canvas_div = canvas_div\n",
       "    this._canvas_extra_style(canvas_div)\n",
       "    this.root.append(canvas_div);\n",
       "\n",
       "    var canvas = $('<canvas/>');\n",
       "    canvas.addClass('mpl-canvas');\n",
       "    canvas.attr('style', \"left: 0; top: 0; z-index: 0; outline: 0\")\n",
       "\n",
       "    this.canvas = canvas[0];\n",
       "    this.context = canvas[0].getContext(\"2d\");\n",
       "\n",
       "    var backingStore = this.context.backingStorePixelRatio ||\n",
       "\tthis.context.webkitBackingStorePixelRatio ||\n",
       "\tthis.context.mozBackingStorePixelRatio ||\n",
       "\tthis.context.msBackingStorePixelRatio ||\n",
       "\tthis.context.oBackingStorePixelRatio ||\n",
       "\tthis.context.backingStorePixelRatio || 1;\n",
       "\n",
       "    mpl.ratio = (window.devicePixelRatio || 1) / backingStore;\n",
       "\n",
       "    var rubberband = $('<canvas/>');\n",
       "    rubberband.attr('style', \"position: absolute; left: 0; top: 0; z-index: 1;\")\n",
       "\n",
       "    var pass_mouse_events = true;\n",
       "\n",
       "    canvas_div.resizable({\n",
       "        start: function(event, ui) {\n",
       "            pass_mouse_events = false;\n",
       "        },\n",
       "        resize: function(event, ui) {\n",
       "            fig.request_resize(ui.size.width, ui.size.height);\n",
       "        },\n",
       "        stop: function(event, ui) {\n",
       "            pass_mouse_events = true;\n",
       "            fig.request_resize(ui.size.width, ui.size.height);\n",
       "        },\n",
       "    });\n",
       "\n",
       "    function mouse_event_fn(event) {\n",
       "        if (pass_mouse_events)\n",
       "            return fig.mouse_event(event, event['data']);\n",
       "    }\n",
       "\n",
       "    rubberband.mousedown('button_press', mouse_event_fn);\n",
       "    rubberband.mouseup('button_release', mouse_event_fn);\n",
       "    // Throttle sequential mouse events to 1 every 20ms.\n",
       "    rubberband.mousemove('motion_notify', mouse_event_fn);\n",
       "\n",
       "    rubberband.mouseenter('figure_enter', mouse_event_fn);\n",
       "    rubberband.mouseleave('figure_leave', mouse_event_fn);\n",
       "\n",
       "    canvas_div.on(\"wheel\", function (event) {\n",
       "        event = event.originalEvent;\n",
       "        event['data'] = 'scroll'\n",
       "        if (event.deltaY < 0) {\n",
       "            event.step = 1;\n",
       "        } else {\n",
       "            event.step = -1;\n",
       "        }\n",
       "        mouse_event_fn(event);\n",
       "    });\n",
       "\n",
       "    canvas_div.append(canvas);\n",
       "    canvas_div.append(rubberband);\n",
       "\n",
       "    this.rubberband = rubberband;\n",
       "    this.rubberband_canvas = rubberband[0];\n",
       "    this.rubberband_context = rubberband[0].getContext(\"2d\");\n",
       "    this.rubberband_context.strokeStyle = \"#000000\";\n",
       "\n",
       "    this._resize_canvas = function(width, height) {\n",
       "        // Keep the size of the canvas, canvas container, and rubber band\n",
       "        // canvas in synch.\n",
       "        canvas_div.css('width', width)\n",
       "        canvas_div.css('height', height)\n",
       "\n",
       "        canvas.attr('width', width * mpl.ratio);\n",
       "        canvas.attr('height', height * mpl.ratio);\n",
       "        canvas.attr('style', 'width: ' + width + 'px; height: ' + height + 'px;');\n",
       "\n",
       "        rubberband.attr('width', width);\n",
       "        rubberband.attr('height', height);\n",
       "    }\n",
       "\n",
       "    // Set the figure to an initial 600x600px, this will subsequently be updated\n",
       "    // upon first draw.\n",
       "    this._resize_canvas(600, 600);\n",
       "\n",
       "    // Disable right mouse context menu.\n",
       "    $(this.rubberband_canvas).bind(\"contextmenu\",function(e){\n",
       "        return false;\n",
       "    });\n",
       "\n",
       "    function set_focus () {\n",
       "        canvas.focus();\n",
       "        canvas_div.focus();\n",
       "    }\n",
       "\n",
       "    window.setTimeout(set_focus, 100);\n",
       "}\n",
       "\n",
       "mpl.figure.prototype._init_toolbar = function() {\n",
       "    var fig = this;\n",
       "\n",
       "    var nav_element = $('<div/>')\n",
       "    nav_element.attr('style', 'width: 100%');\n",
       "    this.root.append(nav_element);\n",
       "\n",
       "    // Define a callback function for later on.\n",
       "    function toolbar_event(event) {\n",
       "        return fig.toolbar_button_onclick(event['data']);\n",
       "    }\n",
       "    function toolbar_mouse_event(event) {\n",
       "        return fig.toolbar_button_onmouseover(event['data']);\n",
       "    }\n",
       "\n",
       "    for(var toolbar_ind in mpl.toolbar_items) {\n",
       "        var name = mpl.toolbar_items[toolbar_ind][0];\n",
       "        var tooltip = mpl.toolbar_items[toolbar_ind][1];\n",
       "        var image = mpl.toolbar_items[toolbar_ind][2];\n",
       "        var method_name = mpl.toolbar_items[toolbar_ind][3];\n",
       "\n",
       "        if (!name) {\n",
       "            // put a spacer in here.\n",
       "            continue;\n",
       "        }\n",
       "        var button = $('<button/>');\n",
       "        button.addClass('ui-button ui-widget ui-state-default ui-corner-all ' +\n",
       "                        'ui-button-icon-only');\n",
       "        button.attr('role', 'button');\n",
       "        button.attr('aria-disabled', 'false');\n",
       "        button.click(method_name, toolbar_event);\n",
       "        button.mouseover(tooltip, toolbar_mouse_event);\n",
       "\n",
       "        var icon_img = $('<span/>');\n",
       "        icon_img.addClass('ui-button-icon-primary ui-icon');\n",
       "        icon_img.addClass(image);\n",
       "        icon_img.addClass('ui-corner-all');\n",
       "\n",
       "        var tooltip_span = $('<span/>');\n",
       "        tooltip_span.addClass('ui-button-text');\n",
       "        tooltip_span.html(tooltip);\n",
       "\n",
       "        button.append(icon_img);\n",
       "        button.append(tooltip_span);\n",
       "\n",
       "        nav_element.append(button);\n",
       "    }\n",
       "\n",
       "    var fmt_picker_span = $('<span/>');\n",
       "\n",
       "    var fmt_picker = $('<select/>');\n",
       "    fmt_picker.addClass('mpl-toolbar-option ui-widget ui-widget-content');\n",
       "    fmt_picker_span.append(fmt_picker);\n",
       "    nav_element.append(fmt_picker_span);\n",
       "    this.format_dropdown = fmt_picker[0];\n",
       "\n",
       "    for (var ind in mpl.extensions) {\n",
       "        var fmt = mpl.extensions[ind];\n",
       "        var option = $(\n",
       "            '<option/>', {selected: fmt === mpl.default_extension}).html(fmt);\n",
       "        fmt_picker.append(option)\n",
       "    }\n",
       "\n",
       "    // Add hover states to the ui-buttons\n",
       "    $( \".ui-button\" ).hover(\n",
       "        function() { $(this).addClass(\"ui-state-hover\");},\n",
       "        function() { $(this).removeClass(\"ui-state-hover\");}\n",
       "    );\n",
       "\n",
       "    var status_bar = $('<span class=\"mpl-message\"/>');\n",
       "    nav_element.append(status_bar);\n",
       "    this.message = status_bar[0];\n",
       "}\n",
       "\n",
       "mpl.figure.prototype.request_resize = function(x_pixels, y_pixels) {\n",
       "    // Request matplotlib to resize the figure. Matplotlib will then trigger a resize in the client,\n",
       "    // which will in turn request a refresh of the image.\n",
       "    this.send_message('resize', {'width': x_pixels, 'height': y_pixels});\n",
       "}\n",
       "\n",
       "mpl.figure.prototype.send_message = function(type, properties) {\n",
       "    properties['type'] = type;\n",
       "    properties['figure_id'] = this.id;\n",
       "    this.ws.send(JSON.stringify(properties));\n",
       "}\n",
       "\n",
       "mpl.figure.prototype.send_draw_message = function() {\n",
       "    if (!this.waiting) {\n",
       "        this.waiting = true;\n",
       "        this.ws.send(JSON.stringify({type: \"draw\", figure_id: this.id}));\n",
       "    }\n",
       "}\n",
       "\n",
       "\n",
       "mpl.figure.prototype.handle_save = function(fig, msg) {\n",
       "    var format_dropdown = fig.format_dropdown;\n",
       "    var format = format_dropdown.options[format_dropdown.selectedIndex].value;\n",
       "    fig.ondownload(fig, format);\n",
       "}\n",
       "\n",
       "\n",
       "mpl.figure.prototype.handle_resize = function(fig, msg) {\n",
       "    var size = msg['size'];\n",
       "    if (size[0] != fig.canvas.width || size[1] != fig.canvas.height) {\n",
       "        fig._resize_canvas(size[0], size[1]);\n",
       "        fig.send_message(\"refresh\", {});\n",
       "    };\n",
       "}\n",
       "\n",
       "mpl.figure.prototype.handle_rubberband = function(fig, msg) {\n",
       "    var x0 = msg['x0'] / mpl.ratio;\n",
       "    var y0 = (fig.canvas.height - msg['y0']) / mpl.ratio;\n",
       "    var x1 = msg['x1'] / mpl.ratio;\n",
       "    var y1 = (fig.canvas.height - msg['y1']) / mpl.ratio;\n",
       "    x0 = Math.floor(x0) + 0.5;\n",
       "    y0 = Math.floor(y0) + 0.5;\n",
       "    x1 = Math.floor(x1) + 0.5;\n",
       "    y1 = Math.floor(y1) + 0.5;\n",
       "    var min_x = Math.min(x0, x1);\n",
       "    var min_y = Math.min(y0, y1);\n",
       "    var width = Math.abs(x1 - x0);\n",
       "    var height = Math.abs(y1 - y0);\n",
       "\n",
       "    fig.rubberband_context.clearRect(\n",
       "        0, 0, fig.canvas.width, fig.canvas.height);\n",
       "\n",
       "    fig.rubberband_context.strokeRect(min_x, min_y, width, height);\n",
       "}\n",
       "\n",
       "mpl.figure.prototype.handle_figure_label = function(fig, msg) {\n",
       "    // Updates the figure title.\n",
       "    fig.header.textContent = msg['label'];\n",
       "}\n",
       "\n",
       "mpl.figure.prototype.handle_cursor = function(fig, msg) {\n",
       "    var cursor = msg['cursor'];\n",
       "    switch(cursor)\n",
       "    {\n",
       "    case 0:\n",
       "        cursor = 'pointer';\n",
       "        break;\n",
       "    case 1:\n",
       "        cursor = 'default';\n",
       "        break;\n",
       "    case 2:\n",
       "        cursor = 'crosshair';\n",
       "        break;\n",
       "    case 3:\n",
       "        cursor = 'move';\n",
       "        break;\n",
       "    }\n",
       "    fig.rubberband_canvas.style.cursor = cursor;\n",
       "}\n",
       "\n",
       "mpl.figure.prototype.handle_message = function(fig, msg) {\n",
       "    fig.message.textContent = msg['message'];\n",
       "}\n",
       "\n",
       "mpl.figure.prototype.handle_draw = function(fig, msg) {\n",
       "    // Request the server to send over a new figure.\n",
       "    fig.send_draw_message();\n",
       "}\n",
       "\n",
       "mpl.figure.prototype.handle_image_mode = function(fig, msg) {\n",
       "    fig.image_mode = msg['mode'];\n",
       "}\n",
       "\n",
       "mpl.figure.prototype.updated_canvas_event = function() {\n",
       "    // Called whenever the canvas gets updated.\n",
       "    this.send_message(\"ack\", {});\n",
       "}\n",
       "\n",
       "// A function to construct a web socket function for onmessage handling.\n",
       "// Called in the figure constructor.\n",
       "mpl.figure.prototype._make_on_message_function = function(fig) {\n",
       "    return function socket_on_message(evt) {\n",
       "        if (evt.data instanceof Blob) {\n",
       "            /* FIXME: We get \"Resource interpreted as Image but\n",
       "             * transferred with MIME type text/plain:\" errors on\n",
       "             * Chrome.  But how to set the MIME type?  It doesn't seem\n",
       "             * to be part of the websocket stream */\n",
       "            evt.data.type = \"image/png\";\n",
       "\n",
       "            /* Free the memory for the previous frames */\n",
       "            if (fig.imageObj.src) {\n",
       "                (window.URL || window.webkitURL).revokeObjectURL(\n",
       "                    fig.imageObj.src);\n",
       "            }\n",
       "\n",
       "            fig.imageObj.src = (window.URL || window.webkitURL).createObjectURL(\n",
       "                evt.data);\n",
       "            fig.updated_canvas_event();\n",
       "            fig.waiting = false;\n",
       "            return;\n",
       "        }\n",
       "        else if (typeof evt.data === 'string' && evt.data.slice(0, 21) == \"data:image/png;base64\") {\n",
       "            fig.imageObj.src = evt.data;\n",
       "            fig.updated_canvas_event();\n",
       "            fig.waiting = false;\n",
       "            return;\n",
       "        }\n",
       "\n",
       "        var msg = JSON.parse(evt.data);\n",
       "        var msg_type = msg['type'];\n",
       "\n",
       "        // Call the  \"handle_{type}\" callback, which takes\n",
       "        // the figure and JSON message as its only arguments.\n",
       "        try {\n",
       "            var callback = fig[\"handle_\" + msg_type];\n",
       "        } catch (e) {\n",
       "            console.log(\"No handler for the '\" + msg_type + \"' message type: \", msg);\n",
       "            return;\n",
       "        }\n",
       "\n",
       "        if (callback) {\n",
       "            try {\n",
       "                // console.log(\"Handling '\" + msg_type + \"' message: \", msg);\n",
       "                callback(fig, msg);\n",
       "            } catch (e) {\n",
       "                console.log(\"Exception inside the 'handler_\" + msg_type + \"' callback:\", e, e.stack, msg);\n",
       "            }\n",
       "        }\n",
       "    };\n",
       "}\n",
       "\n",
       "// from http://stackoverflow.com/questions/1114465/getting-mouse-location-in-canvas\n",
       "mpl.findpos = function(e) {\n",
       "    //this section is from http://www.quirksmode.org/js/events_properties.html\n",
       "    var targ;\n",
       "    if (!e)\n",
       "        e = window.event;\n",
       "    if (e.target)\n",
       "        targ = e.target;\n",
       "    else if (e.srcElement)\n",
       "        targ = e.srcElement;\n",
       "    if (targ.nodeType == 3) // defeat Safari bug\n",
       "        targ = targ.parentNode;\n",
       "\n",
       "    // jQuery normalizes the pageX and pageY\n",
       "    // pageX,Y are the mouse positions relative to the document\n",
       "    // offset() returns the position of the element relative to the document\n",
       "    var x = e.pageX - $(targ).offset().left;\n",
       "    var y = e.pageY - $(targ).offset().top;\n",
       "\n",
       "    return {\"x\": x, \"y\": y};\n",
       "};\n",
       "\n",
       "/*\n",
       " * return a copy of an object with only non-object keys\n",
       " * we need this to avoid circular references\n",
       " * http://stackoverflow.com/a/24161582/3208463\n",
       " */\n",
       "function simpleKeys (original) {\n",
       "  return Object.keys(original).reduce(function (obj, key) {\n",
       "    if (typeof original[key] !== 'object')\n",
       "        obj[key] = original[key]\n",
       "    return obj;\n",
       "  }, {});\n",
       "}\n",
       "\n",
       "mpl.figure.prototype.mouse_event = function(event, name) {\n",
       "    var canvas_pos = mpl.findpos(event)\n",
       "\n",
       "    if (name === 'button_press')\n",
       "    {\n",
       "        this.canvas.focus();\n",
       "        this.canvas_div.focus();\n",
       "    }\n",
       "\n",
       "    var x = canvas_pos.x * mpl.ratio;\n",
       "    var y = canvas_pos.y * mpl.ratio;\n",
       "\n",
       "    this.send_message(name, {x: x, y: y, button: event.button,\n",
       "                             step: event.step,\n",
       "                             guiEvent: simpleKeys(event)});\n",
       "\n",
       "    /* This prevents the web browser from automatically changing to\n",
       "     * the text insertion cursor when the button is pressed.  We want\n",
       "     * to control all of the cursor setting manually through the\n",
       "     * 'cursor' event from matplotlib */\n",
       "    event.preventDefault();\n",
       "    return false;\n",
       "}\n",
       "\n",
       "mpl.figure.prototype._key_event_extra = function(event, name) {\n",
       "    // Handle any extra behaviour associated with a key event\n",
       "}\n",
       "\n",
       "mpl.figure.prototype.key_event = function(event, name) {\n",
       "\n",
       "    // Prevent repeat events\n",
       "    if (name == 'key_press')\n",
       "    {\n",
       "        if (event.which === this._key)\n",
       "            return;\n",
       "        else\n",
       "            this._key = event.which;\n",
       "    }\n",
       "    if (name == 'key_release')\n",
       "        this._key = null;\n",
       "\n",
       "    var value = '';\n",
       "    if (event.ctrlKey && event.which != 17)\n",
       "        value += \"ctrl+\";\n",
       "    if (event.altKey && event.which != 18)\n",
       "        value += \"alt+\";\n",
       "    if (event.shiftKey && event.which != 16)\n",
       "        value += \"shift+\";\n",
       "\n",
       "    value += 'k';\n",
       "    value += event.which.toString();\n",
       "\n",
       "    this._key_event_extra(event, name);\n",
       "\n",
       "    this.send_message(name, {key: value,\n",
       "                             guiEvent: simpleKeys(event)});\n",
       "    return false;\n",
       "}\n",
       "\n",
       "mpl.figure.prototype.toolbar_button_onclick = function(name) {\n",
       "    if (name == 'download') {\n",
       "        this.handle_save(this, null);\n",
       "    } else {\n",
       "        this.send_message(\"toolbar_button\", {name: name});\n",
       "    }\n",
       "};\n",
       "\n",
       "mpl.figure.prototype.toolbar_button_onmouseover = function(tooltip) {\n",
       "    this.message.textContent = tooltip;\n",
       "};\n",
       "mpl.toolbar_items = [[\"Home\", \"Reset original view\", \"fa fa-home icon-home\", \"home\"], [\"Back\", \"Back to  previous view\", \"fa fa-arrow-left icon-arrow-left\", \"back\"], [\"Forward\", \"Forward to next view\", \"fa fa-arrow-right icon-arrow-right\", \"forward\"], [\"\", \"\", \"\", \"\"], [\"Pan\", \"Pan axes with left mouse, zoom with right\", \"fa fa-arrows icon-move\", \"pan\"], [\"Zoom\", \"Zoom to rectangle\", \"fa fa-square-o icon-check-empty\", \"zoom\"], [\"\", \"\", \"\", \"\"], [\"Download\", \"Download plot\", \"fa fa-floppy-o icon-save\", \"download\"]];\n",
       "\n",
       "mpl.extensions = [\"eps\", \"pdf\", \"png\", \"ps\", \"raw\", \"svg\"];\n",
       "\n",
       "mpl.default_extension = \"png\";var comm_websocket_adapter = function(comm) {\n",
       "    // Create a \"websocket\"-like object which calls the given IPython comm\n",
       "    // object with the appropriate methods. Currently this is a non binary\n",
       "    // socket, so there is still some room for performance tuning.\n",
       "    var ws = {};\n",
       "\n",
       "    ws.close = function() {\n",
       "        comm.close()\n",
       "    };\n",
       "    ws.send = function(m) {\n",
       "        //console.log('sending', m);\n",
       "        comm.send(m);\n",
       "    };\n",
       "    // Register the callback with on_msg.\n",
       "    comm.on_msg(function(msg) {\n",
       "        //console.log('receiving', msg['content']['data'], msg);\n",
       "        // Pass the mpl event to the overriden (by mpl) onmessage function.\n",
       "        ws.onmessage(msg['content']['data'])\n",
       "    });\n",
       "    return ws;\n",
       "}\n",
       "\n",
       "mpl.mpl_figure_comm = function(comm, msg) {\n",
       "    // This is the function which gets called when the mpl process\n",
       "    // starts-up an IPython Comm through the \"matplotlib\" channel.\n",
       "\n",
       "    var id = msg.content.data.id;\n",
       "    // Get hold of the div created by the display call when the Comm\n",
       "    // socket was opened in Python.\n",
       "    var element = $(\"#\" + id);\n",
       "    var ws_proxy = comm_websocket_adapter(comm)\n",
       "\n",
       "    function ondownload(figure, format) {\n",
       "        window.open(figure.imageObj.src);\n",
       "    }\n",
       "\n",
       "    var fig = new mpl.figure(id, ws_proxy,\n",
       "                           ondownload,\n",
       "                           element.get(0));\n",
       "\n",
       "    // Call onopen now - mpl needs it, as it is assuming we've passed it a real\n",
       "    // web socket which is closed, not our websocket->open comm proxy.\n",
       "    ws_proxy.onopen();\n",
       "\n",
       "    fig.parent_element = element.get(0);\n",
       "    fig.cell_info = mpl.find_output_cell(\"<div id='\" + id + \"'></div>\");\n",
       "    if (!fig.cell_info) {\n",
       "        console.error(\"Failed to find cell for figure\", id, fig);\n",
       "        return;\n",
       "    }\n",
       "\n",
       "    var output_index = fig.cell_info[2]\n",
       "    var cell = fig.cell_info[0];\n",
       "\n",
       "};\n",
       "\n",
       "mpl.figure.prototype.handle_close = function(fig, msg) {\n",
       "    var width = fig.canvas.width/mpl.ratio\n",
       "    fig.root.unbind('remove')\n",
       "\n",
       "    // Update the output cell to use the data from the current canvas.\n",
       "    fig.push_to_output();\n",
       "    var dataURL = fig.canvas.toDataURL();\n",
       "    // Re-enable the keyboard manager in IPython - without this line, in FF,\n",
       "    // the notebook keyboard shortcuts fail.\n",
       "    IPython.keyboard_manager.enable()\n",
       "    $(fig.parent_element).html('<img src=\"' + dataURL + '\" width=\"' + width + '\">');\n",
       "    fig.close_ws(fig, msg);\n",
       "}\n",
       "\n",
       "mpl.figure.prototype.close_ws = function(fig, msg){\n",
       "    fig.send_message('closing', msg);\n",
       "    // fig.ws.close()\n",
       "}\n",
       "\n",
       "mpl.figure.prototype.push_to_output = function(remove_interactive) {\n",
       "    // Turn the data on the canvas into data in the output cell.\n",
       "    var width = this.canvas.width/mpl.ratio\n",
       "    var dataURL = this.canvas.toDataURL();\n",
       "    this.cell_info[1]['text/html'] = '<img src=\"' + dataURL + '\" width=\"' + width + '\">';\n",
       "}\n",
       "\n",
       "mpl.figure.prototype.updated_canvas_event = function() {\n",
       "    // Tell IPython that the notebook contents must change.\n",
       "    IPython.notebook.set_dirty(true);\n",
       "    this.send_message(\"ack\", {});\n",
       "    var fig = this;\n",
       "    // Wait a second, then push the new image to the DOM so\n",
       "    // that it is saved nicely (might be nice to debounce this).\n",
       "    setTimeout(function () { fig.push_to_output() }, 1000);\n",
       "}\n",
       "\n",
       "mpl.figure.prototype._init_toolbar = function() {\n",
       "    var fig = this;\n",
       "\n",
       "    var nav_element = $('<div/>')\n",
       "    nav_element.attr('style', 'width: 100%');\n",
       "    this.root.append(nav_element);\n",
       "\n",
       "    // Define a callback function for later on.\n",
       "    function toolbar_event(event) {\n",
       "        return fig.toolbar_button_onclick(event['data']);\n",
       "    }\n",
       "    function toolbar_mouse_event(event) {\n",
       "        return fig.toolbar_button_onmouseover(event['data']);\n",
       "    }\n",
       "\n",
       "    for(var toolbar_ind in mpl.toolbar_items){\n",
       "        var name = mpl.toolbar_items[toolbar_ind][0];\n",
       "        var tooltip = mpl.toolbar_items[toolbar_ind][1];\n",
       "        var image = mpl.toolbar_items[toolbar_ind][2];\n",
       "        var method_name = mpl.toolbar_items[toolbar_ind][3];\n",
       "\n",
       "        if (!name) { continue; };\n",
       "\n",
       "        var button = $('<button class=\"btn btn-default\" href=\"#\" title=\"' + name + '\"><i class=\"fa ' + image + ' fa-lg\"></i></button>');\n",
       "        button.click(method_name, toolbar_event);\n",
       "        button.mouseover(tooltip, toolbar_mouse_event);\n",
       "        nav_element.append(button);\n",
       "    }\n",
       "\n",
       "    // Add the status bar.\n",
       "    var status_bar = $('<span class=\"mpl-message\" style=\"text-align:right; float: right;\"/>');\n",
       "    nav_element.append(status_bar);\n",
       "    this.message = status_bar[0];\n",
       "\n",
       "    // Add the close button to the window.\n",
       "    var buttongrp = $('<div class=\"btn-group inline pull-right\"></div>');\n",
       "    var button = $('<button class=\"btn btn-mini btn-primary\" href=\"#\" title=\"Stop Interaction\"><i class=\"fa fa-power-off icon-remove icon-large\"></i></button>');\n",
       "    button.click(function (evt) { fig.handle_close(fig, {}); } );\n",
       "    button.mouseover('Stop Interaction', toolbar_mouse_event);\n",
       "    buttongrp.append(button);\n",
       "    var titlebar = this.root.find($('.ui-dialog-titlebar'));\n",
       "    titlebar.prepend(buttongrp);\n",
       "}\n",
       "\n",
       "mpl.figure.prototype._root_extra_style = function(el){\n",
       "    var fig = this\n",
       "    el.on(\"remove\", function(){\n",
       "\tfig.close_ws(fig, {});\n",
       "    });\n",
       "}\n",
       "\n",
       "mpl.figure.prototype._canvas_extra_style = function(el){\n",
       "    // this is important to make the div 'focusable\n",
       "    el.attr('tabindex', 0)\n",
       "    // reach out to IPython and tell the keyboard manager to turn it's self\n",
       "    // off when our div gets focus\n",
       "\n",
       "    // location in version 3\n",
       "    if (IPython.notebook.keyboard_manager) {\n",
       "        IPython.notebook.keyboard_manager.register_events(el);\n",
       "    }\n",
       "    else {\n",
       "        // location in version 2\n",
       "        IPython.keyboard_manager.register_events(el);\n",
       "    }\n",
       "\n",
       "}\n",
       "\n",
       "mpl.figure.prototype._key_event_extra = function(event, name) {\n",
       "    var manager = IPython.notebook.keyboard_manager;\n",
       "    if (!manager)\n",
       "        manager = IPython.keyboard_manager;\n",
       "\n",
       "    // Check for shift+enter\n",
       "    if (event.shiftKey && event.which == 13) {\n",
       "        this.canvas_div.blur();\n",
       "        // select the cell after this one\n",
       "        var index = IPython.notebook.find_cell_index(this.cell_info[0]);\n",
       "        IPython.notebook.select(index + 1);\n",
       "    }\n",
       "}\n",
       "\n",
       "mpl.figure.prototype.handle_save = function(fig, msg) {\n",
       "    fig.ondownload(fig, null);\n",
       "}\n",
       "\n",
       "\n",
       "mpl.find_output_cell = function(html_output) {\n",
       "    // Return the cell and output element which can be found *uniquely* in the notebook.\n",
       "    // Note - this is a bit hacky, but it is done because the \"notebook_saving.Notebook\"\n",
       "    // IPython event is triggered only after the cells have been serialised, which for\n",
       "    // our purposes (turning an active figure into a static one), is too late.\n",
       "    var cells = IPython.notebook.get_cells();\n",
       "    var ncells = cells.length;\n",
       "    for (var i=0; i<ncells; i++) {\n",
       "        var cell = cells[i];\n",
       "        if (cell.cell_type === 'code'){\n",
       "            for (var j=0; j<cell.output_area.outputs.length; j++) {\n",
       "                var data = cell.output_area.outputs[j];\n",
       "                if (data.data) {\n",
       "                    // IPython >= 3 moved mimebundle to data attribute of output\n",
       "                    data = data.data;\n",
       "                }\n",
       "                if (data['text/html'] == html_output) {\n",
       "                    return [cell, data, j];\n",
       "                }\n",
       "            }\n",
       "        }\n",
       "    }\n",
       "}\n",
       "\n",
       "// Register the function which deals with the matplotlib target/channel.\n",
       "// The kernel may be null if the page has been refreshed.\n",
       "if (IPython.notebook.kernel != null) {\n",
       "    IPython.notebook.kernel.comm_manager.register_target('matplotlib', mpl.mpl_figure_comm);\n",
       "}\n"
      ],
      "text/plain": [
       "<IPython.core.display.Javascript object>"
      ]
     },
     "metadata": {},
     "output_type": "display_data"
    },
    {
     "data": {
      "text/html": [
       "<img src=\"data:image/png;base64,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\" width=\"576\">"
      ],
      "text/plain": [
       "<IPython.core.display.HTML object>"
      ]
     },
     "metadata": {},
     "output_type": "display_data"
    },
    {
     "data": {
      "text/plain": [
       "[<matplotlib.lines.Line2D at 0x7f65ac0a7ad0>]"
      ]
     },
     "execution_count": 32,
     "metadata": {},
     "output_type": "execute_result"
    }
   ],
   "source": [
    "%matplotlib notebook\n",
    "mask_ext = pu.disc_peak_full(signal,height_th,0,offset)\n",
    "\n",
    "mask = pu.disc_peak_full(signal,height_th,0,0)\n",
    "mask_forward = disc.disc_peak(signal,height_th,0)\n",
    "\n",
    "f, (ax1,ax2) = plt.subplots(2, 1, sharex=True, figsize=(8,6))\n",
    "plt.tight_layout\n",
    "ax1.plot(time,signal,color='blue')\n",
    "ax1.axhline(height_th)\n",
    "# ax2.plot(time,mask_forward,color='black')\n",
    "ax2.plot(time,mask,color='red',alpha=1)\n",
    "ax2.plot(time,mask_ext,color='red',alpha=1,linestyle='--')"
   ]
  },
  {
   "cell_type": "code",
   "execution_count": 43,
   "metadata": {},
   "outputs": [
    {
     "name": "stdout",
     "output_type": "stream",
     "text": [
      "3.03525276258 3.08525276116 4.23125272875 5.8772526822 5.93125268067\n"
     ]
    },
    {
     "name": "stderr",
     "output_type": "stream",
     "text": [
      "/usr/local/lib/python2.7/dist-packages/ipykernel_launcher.py:1: VisibleDeprecationWarning: boolean index did not match indexed array along dimension 0; dimension is 5002 but corresponding boolean dimension is 5001\n",
      "  \"\"\"Entry point for launching an IPython kernel.\n",
      "/usr/local/lib/python2.7/dist-packages/ipykernel_launcher.py:2: VisibleDeprecationWarning: boolean index did not match indexed array along dimension 0; dimension is 5002 but corresponding boolean dimension is 5001\n",
      "  \n",
      "/usr/local/lib/python2.7/dist-packages/ipykernel_launcher.py:3: VisibleDeprecationWarning: boolean index did not match indexed array along dimension 0; dimension is 5002 but corresponding boolean dimension is 5001\n",
      "  This is separate from the ipykernel package so we can avoid doing imports until\n"
     ]
    }
   ],
   "source": [
    "[c,d] = time[np.diff(mask)>0]*1e6\n",
    "[a,b] = time[np.diff(mask_forward)>0]*1e6\n",
    "[_,e] = time[np.diff(mask_ext)>0]*1e6\n",
    "print c,a,d,b,e\n",
    "np.savetxt('comparator_AtoE.dat',[a,b,c,d,e,height_th,0,offset],\n",
    "          header = \"\\t\".join(['a','b','c','d','e','V_high','V_low','offset']))"
   ]
  },
  {
   "cell_type": "markdown",
   "metadata": {},
   "source": [
    "## Saves discriminator demo trace"
   ]
  },
  {
   "cell_type": "code",
   "execution_count": 44,
   "metadata": {
    "collapsed": true
   },
   "outputs": [],
   "source": [
    "np.savetxt(results_directory+'demo_trace.dat', zip(time,signal))\n",
    "# np.savetxt(results_directory+'mask_forward.dat', mask_forward)\n",
    "np.savetxt(results_directory+'mask.dat', zip(time,mask))\n",
    "np.savetxt(results_directory+'mask_ext.dat', zip(time,mask_ext))"
   ]
  },
  {
   "cell_type": "markdown",
   "metadata": {},
   "source": [
    "## Calculate fit parameters for amplitudes\n",
    "* Import area distribution, thresholds\n",
    "* Compute range of amplitudes to consider for fitting"
   ]
  },
  {
   "cell_type": "code",
   "execution_count": 8,
   "metadata": {
    "collapsed": true
   },
   "outputs": [],
   "source": [
    "pkl_file = open(results_directory+'area_distribution_lmfit_result.dat', 'rb')\n",
    "area_fit_result = pickle.load(pkl_file)"
   ]
  },
  {
   "cell_type": "code",
   "execution_count": 9,
   "metadata": {
    "collapsed": true
   },
   "outputs": [],
   "source": [
    "area_mus = (area_fit_result.best_values['g1_center'], area_fit_result.best_values['g2_center'])"
   ]
  },
  {
   "cell_type": "code",
   "execution_count": 10,
   "metadata": {
    "collapsed": true
   },
   "outputs": [],
   "source": [
    "area_sigmas = (area_fit_result.best_values['g1_sigma'], area_fit_result.best_values['g2_sigma'])"
   ]
  },
  {
   "cell_type": "code",
   "execution_count": 11,
   "metadata": {
    "collapsed": true
   },
   "outputs": [],
   "source": [
    "# A. use 2 sigmas away from gaussian centers to create thresholds between number distributions\n",
    "# th_areas = [(area_mus[i]-2*area_sigmas[i],area_mus[i]+2*area_sigmas[i]) \n",
    "#             for i,_ in enumerate(area_mus)]\n",
    "# sum_a = th_areas[1][0]/area_mus[0]\n",
    "# sum_b = th_areas[1][1]/area_mus[0]\n",
    "# TwoPhoton_ThresWidth = (th_areas[1][1]-th_areas[1][0])"
   ]
  },
  {
   "cell_type": "code",
   "execution_count": 12,
   "metadata": {
    "collapsed": true
   },
   "outputs": [],
   "source": [
    "# B. use minimal overlap between distributions to create thresholds between number distributions\n",
    "th_areas = np.loadtxt(results_directory+'th_areas_from_min_overlap.dat')\n",
    "[th01, th12, th23] = th_areas[:3]\n",
    "sum_a = th12/area_mus[0]\n",
    "sum_b = th23/area_mus[0]\n",
    "TwoPhoton_ThresWidth = (th23-th12)"
   ]
  },
  {
   "cell_type": "code",
   "execution_count": 13,
   "metadata": {
    "collapsed": true
   },
   "outputs": [],
   "source": [
    "# C. manual input for thresholds\n",
    "# sum_a = 7.95798869853/area_mus[0]\n",
    "# sum_b = 14/area_mus[0]\n",
    "# TwoPhoton_ThresWidth = (14-8.3)"
   ]
  },
  {
   "cell_type": "code",
   "execution_count": 14,
   "metadata": {},
   "outputs": [
    {
     "name": "stdout",
     "output_type": "stream",
     "text": [
      "1.45905680268 1.95014843366 2.47253338417\n"
     ]
    }
   ],
   "source": [
    "# define amplitude sum distribution as n=2 area distribution normalised to n=1 mean area\n",
    "sum_mu = area_mus[1]/area_mus[0]\n",
    "sum_tau = 1.0/((area_sigmas[1]/area_mus[0])**2)\n",
    "print sum_a, sum_mu, sum_b"
   ]
  },
  {
   "cell_type": "code",
   "execution_count": 15,
   "metadata": {},
   "outputs": [
    {
     "name": "stdout",
     "output_type": "stream",
     "text": [
      "-0.50673829075 0.50673829075\n"
     ]
    }
   ],
   "source": [
    "# define amplitude difference distribution as n=2 area distribution normalised to n=1 mean area, shifted to zero\n",
    "diff_tau = 1.0/((area_sigmas[1]/area_mus[0])**2)\n",
    "diff_a = -TwoPhoton_ThresWidth/2/area_mus[0]\n",
    "diff_b = TwoPhoton_ThresWidth/2/area_mus[0]\n",
    "print diff_a, diff_b"
   ]
  },
  {
   "cell_type": "code",
   "execution_count": 17,
   "metadata": {
    "collapsed": true
   },
   "outputs": [],
   "source": [
    "np.savetxt(results_directory+'sum_and_diff_fit_params.dat',\n",
    "          np.array([sum_a,sum_mu,sum_b,sum_tau,diff_a, diff_b,diff_tau]).reshape(1,7),\n",
    "           delimiter=\"\\t\",\n",
    "          header = \"\\t\".join(['sum_a', 'sum_mu', 'sum_b','sum_tau','diff_a', 'diff_b','diff_tau'])\n",
    "          )"
   ]
  },
  {
   "cell_type": "code",
   "execution_count": 16,
   "metadata": {},
   "outputs": [
    {
     "name": "stdout",
     "output_type": "stream",
     "text": [
      "[  1.4590568    1.95014843   2.47253338  30.68658986  -0.50673829\n",
      "   0.50673829  30.68658986]\n"
     ]
    }
   ],
   "source": [
    "# Loads Pulse Parameters\n",
    "pulse_params =np.genfromtxt(results_directory + 'sum_and_diff_fit_params.dat',\n",
    "                            delimiter=\"\\t\",\n",
    "                            )\n",
    "print pulse_params"
   ]
  },
  {
   "cell_type": "code",
   "execution_count": 122,
   "metadata": {
    "collapsed": true
   },
   "outputs": [],
   "source": [
    "time_f = ph1_model['time']\n",
    "signal_f = ph1_model['signal']\n",
    "sigma_f = ph1_model['sigma']"
   ]
  },
  {
   "cell_type": "code",
   "execution_count": 102,
   "metadata": {},
   "outputs": [
    {
     "data": {
      "text/plain": [
       "[<matplotlib.lines.Line2D at 0x7f24e6ac4250>]"
      ]
     },
     "execution_count": 102,
     "metadata": {},
     "output_type": "execute_result"
    },
    {
     "data": {
      "image/png": "[encoded data removed]",
      "text/plain": [
       "<matplotlib.figure.Figure at 0x7f24e6c566d0>"
      ]
     },
     "metadata": {},
     "output_type": "display_data"
    }
   ],
   "source": [
    "plt.plot(impulse_response)"
   ]
  },
  {
   "cell_type": "code",
   "execution_count": 120,
   "metadata": {},
   "outputs": [
    {
     "data": {
      "text/plain": [
       "[<matplotlib.lines.Line2D at 0x7f24e6430bd0>]"
      ]
     },
     "execution_count": 120,
     "metadata": {},
     "output_type": "execute_result"
    },
    {
     "data": {
      "image/png": "[encoded data removed]",
      "text/plain": [
       "<matplotlib.figure.Figure at 0x7f24e64f5f90>"
      ]
     },
     "metadata": {},
     "output_type": "display_data"
    }
   ],
   "source": [
    "recovered, remainder = scipysig.deconvolve(signal, impulse_response)\n",
    "plt.plot(recovered)\n",
    "# plt.ylim(-0.1,0.1)"
   ]
  },
  {
   "cell_type": "code",
   "execution_count": 101,
   "metadata": {},
   "outputs": [],
   "source": [
    "impulse_response = signal_f[2250:]\n",
    "# impulse_response = signal_f\n",
    "norm = np.sum(impulse_response)\n",
    "impulse_response = impulse_response/norm\n",
    "r = scipysig.correlate(signal,np.flipud(impulse_response),mode='full')"
   ]
  },
  {
   "cell_type": "code",
   "execution_count": 103,
   "metadata": {},
   "outputs": [
    {
     "name": "stdout",
     "output_type": "stream",
     "text": [
      "17.2142729152\n"
     ]
    },
    {
     "data": {
      "image/png": "[encoded data removed]",
      "text/plain": [
       "<matplotlib.figure.Figure at 0x7f24e6b6d450>"
      ]
     },
     "metadata": {},
     "output_type": "display_data"
    }
   ],
   "source": [
    "plt.plot(signal)\n",
    "plt.plot(r)\n",
    "print np.sum(r)"
   ]
  },
  {
   "cell_type": "code",
   "execution_count": 110,
   "metadata": {
    "collapsed": true
   },
   "outputs": [],
   "source": [
    "def area_from_convolution(signal,signal_f):\n",
    "    impulse_response = signal_f[2250:]\n",
    "    r = scipysig.correlate(signal,np.flipud(impulse_response),mode='full')\n",
    "    return np.sum(r)"
   ]
  },
  {
   "cell_type": "code",
   "execution_count": 112,
   "metadata": {},
   "outputs": [
    {
     "name": "stdout",
     "output_type": "stream",
     "text": [
      "400000\n"
     ]
    }
   ],
   "source": [
    "# Imports CW traces\n",
    "directories = ['/mnt/disk1/data/20170523_TES5_75mK_95uA_trise_115ns/doubles/',\n",
    "              '/mnt/disk1/data/20170523_TES5_75mK_95uA_trise_115ns/doubles_more/',\n",
    "              '/mnt/disk1/data/20170523_TES5_75mK_95uA_trise_115ns/doubles_more_more/',\n",
    "              '/mnt/disk1/data/20170523_TES5_75mK_95uA_trise_115ns/doubles_more_more_more/']\n",
    "\n",
    "results_directory = './'\n",
    "filelist=[]\n",
    "for directory_name in directories:\n",
    "    subfilelist = np.array(glob.glob(directory_name + '*.trc'))\n",
    "    filelist.extend(subfilelist)\n",
    "filelist = np.sort(np.array(filelist))\n",
    "print len(filelist)"
   ]
  },
  {
   "cell_type": "code",
   "execution_count": 118,
   "metadata": {},
   "outputs": [
    {
     "name": "stderr",
     "output_type": "stream",
     "text": [
      "  0%|          | 0/10000 [00:00<?, ?it/s]/usr/local/lib/python2.7/dist-packages/ipykernel_launcher.py:5: VisibleDeprecationWarning: boolean index did not match indexed array along dimension 0; dimension is 5001 but corresponding boolean dimension is 5002\n",
      "  \"\"\"\n",
      "100%|██████████| 10000/10000 [00:26<00:00, 383.52it/s]\n"
     ]
    }
   ],
   "source": [
    "areas_from_convolution=[]\n",
    "for fname in tqdm.tqdm(filelist[:10000]):\n",
    "    _,s = hpa.trace_extr(fname,height_th)\n",
    "    mask_area = pu.disc_peak_full(signal,height_th,0,offset)\n",
    "    areas_from_convolution.append(area_from_convolution(s[mask_area],signal_f))"
   ]
  },
  {
   "cell_type": "code",
   "execution_count": 121,
   "metadata": {},
   "outputs": [
    {
     "data": {
      "text/plain": [
       "(0, 100)"
      ]
     },
     "execution_count": 121,
     "metadata": {},
     "output_type": "execute_result"
    },
    {
     "data": {
      "image/png": "[encoded data removed]",
      "text/plain": [
       "<matplotlib.figure.Figure at 0x7f24e63f58d0>"
      ]
     },
     "metadata": {},
     "output_type": "display_data"
    }
   ],
   "source": [
    "plt.hist(areas_from_convolution,200);\n",
    "plt.ylim(0,100)"
   ]
  }
 ],
 "metadata": {
  "kernelspec": {
   "display_name": "Python 2",
   "language": "python",
   "name": "python2"
  },
  "language_info": {
   "codemirror_mode": {
    "name": "ipython",
    "version": 2
   },
   "file_extension": ".py",
   "mimetype": "text/x-python",
   "name": "python",
   "nbconvert_exporter": "python",
   "pygments_lexer": "ipython2",
   "version": "2.7.12"
  }
 },
 "nbformat": 4,
 "nbformat_minor": 2
}
